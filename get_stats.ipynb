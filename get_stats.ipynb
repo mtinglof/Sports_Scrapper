{
 "cells": [
  {
   "cell_type": "code",
   "execution_count": 2,
   "metadata": {},
   "outputs": [],
   "source": [
    "from selenium import webdriver\n",
    "from selenium.webdriver.common.keys import Keys\n",
    "from selenium.webdriver.common.by import By\n",
    "from selenium.webdriver.chrome.options import Options\n",
    "from selenium.webdriver.common.action_chains import ActionChains\n",
    "import pandas as pd\n",
    "import time\n",
    "from io import StringIO\n"
   ]
  },
  {
   "cell_type": "code",
   "execution_count": 3,
   "metadata": {},
   "outputs": [],
   "source": [
    "path_to_extension = r'M:\\Dev\\sports_predict\\uBOLite_0.1.22.9205.mv3'\n",
    "path_to_driver = 'M:\\Dev\\sports_predict\\chromedriver_win32\\chromedriver.exe'\n",
    "\n",
    "chrome_options = Options()\n",
    "chrome_options.add_argument('load-extension=' + path_to_extension)\n"
   ]
  },
  {
   "cell_type": "code",
   "execution_count": 4,
   "metadata": {},
   "outputs": [],
   "source": [
    "driver = webdriver.Chrome(path_to_driver, options=chrome_options)\n",
    "driver.create_options()\n",
    "driver.get('https://www.pro-football-reference.com/')\n",
    "actions = ActionChains(driver)"
   ]
  },
  {
   "cell_type": "code",
   "execution_count": 66,
   "metadata": {},
   "outputs": [],
   "source": [
    "player = \"Jonathan Taylor\"\n",
    "element = driver.find_element(By.XPATH, \"//input[@class='ac-input completely']\")\n",
    "element.click()\n",
    "element.send_keys(player)\n",
    "element = driver.find_element(By.XPATH, \"//div[@class='ac-dropdown']//span[@class='search-results-item']\")\n",
    "element.click()"
   ]
  },
  {
   "cell_type": "code",
   "execution_count": 67,
   "metadata": {},
   "outputs": [],
   "source": [
    "new_web = driver.current_url[:-4] + \"/fantasy/2021\"\n",
    "driver.get(new_web)"
   ]
  },
  {
   "cell_type": "code",
   "execution_count": 68,
   "metadata": {},
   "outputs": [],
   "source": [
    "element = driver.find_element(By.XPATH, \"//div[@id='all_player_fantasy']//li[@class='hasmore']//span[text()='Share & Export']\")\n",
    "actions.move_to_element(element).perform()\n",
    "actions.perform()\n",
    "element = driver.find_element(By.XPATH, \"//div[@id='all_player_fantasy']//button[@tip='Get a link directly to this table on this page']\")\n",
    "element.click()\n",
    "element = driver.find_element(By.XPATH, \"//pre[@id='csv_player_fantasy']\")"
   ]
  },
  {
   "cell_type": "code",
   "execution_count": 69,
   "metadata": {},
   "outputs": [],
   "source": [
    "df = pd.read_csv(StringIO(element.text[80:]), sep=\",\")\n",
    "df.drop(list(df.loc[(df['Unnamed: 2']=='Total')].index), inplace=True)\n",
    "df.to_csv(\"test.csv\", index=None)"
   ]
  },
  {
   "cell_type": "code",
   "execution_count": 30,
   "metadata": {},
   "outputs": [],
   "source": [
    "element = driver.find_element(By.XPATH, \"//div[@id='all_passing']//li[@class='hasmore']\")\n",
    "driver.execute_script(\"arguments[0].scrollIntoView({'block':'center','inline':'center'})\", driver.find_element(By.XPATH, \"//div[@id='all_passing']//li[@class='hasmore']\"))\n",
    "time.sleep(1)\n",
    "element = driver.find_element(By.XPATH, \"//div[@id='all_passing']//li[@class='hasmore']//span[text()='Share & Export']\")\n",
    "actions.move_to_element(element).perform()\n",
    "actions.perform()\n",
    "element = driver.find_element(By.XPATH, \"//div[@id='all_passing']//button[@tip='Get a link directly to this table on this page']\")\n",
    "element.click()\n",
    "element = driver.find_element(By.XPATH, \"//pre[@id='csv_passing']\")"
   ]
  },
  {
   "cell_type": "code",
   "execution_count": 32,
   "metadata": {},
   "outputs": [],
   "source": [
    "df = pd.read_csv(StringIO(element.text[80:]), sep=\",\")\n",
    "df.drop(columns=['Player-additional'], inplace=True)\n",
    "df.drop(list(df.loc[(df['Player']=='Team Total')|(df['Player']=='Opp Total')].index), inplace=True)\n",
    "df.to_csv(\"test.csv\", index=None)"
   ]
  }
 ],
 "metadata": {
  "kernelspec": {
   "display_name": "Python 3.9.13 ('sports_stats')",
   "language": "python",
   "name": "python3"
  },
  "language_info": {
   "codemirror_mode": {
    "name": "ipython",
    "version": 3
   },
   "file_extension": ".py",
   "mimetype": "text/x-python",
   "name": "python",
   "nbconvert_exporter": "python",
   "pygments_lexer": "ipython3",
   "version": "3.10.4"
  },
  "orig_nbformat": 4,
  "vscode": {
   "interpreter": {
    "hash": "46014b6aa661bd8d7eda6b3ae7190745edc040d5698e599e956bbc6a3975714a"
   }
  }
 },
 "nbformat": 4,
 "nbformat_minor": 2
}
